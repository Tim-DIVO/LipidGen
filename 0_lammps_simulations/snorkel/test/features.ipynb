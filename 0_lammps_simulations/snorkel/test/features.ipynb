{
 "cells": [
  {
   "cell_type": "code",
   "execution_count": 9,
   "id": "cc2a76e1",
   "metadata": {},
   "outputs": [],
   "source": [
    "import pandas as pd"
   ]
  },
  {
   "cell_type": "code",
   "execution_count": 10,
   "id": "ba395e95",
   "metadata": {},
   "outputs": [],
   "source": [
    "features = pd.read_csv(\"features.csv\")"
   ]
  },
  {
   "cell_type": "code",
   "execution_count": 13,
   "id": "ebd1da0f",
   "metadata": {},
   "outputs": [],
   "source": [
    "features['status'] = 'unstable'\n",
    "stables = [f\"config_{i}\" for i in range(9, 17)]\n",
    "features.loc[features['config'].isin(stables), 'status'] = 'stable'\n"
   ]
  },
  {
   "cell_type": "code",
   "execution_count": 15,
   "id": "ea2c84e9",
   "metadata": {},
   "outputs": [],
   "source": [
    "features.to_csv(\"transitions_features.csv\", index = False)"
   ]
  },
  {
   "cell_type": "code",
   "execution_count": null,
   "id": "b74dfe9d",
   "metadata": {},
   "outputs": [],
   "source": []
  }
 ],
 "metadata": {
  "kernelspec": {
   "display_name": "MDanalysis",
   "language": "python",
   "name": "python3"
  },
  "language_info": {
   "codemirror_mode": {
    "name": "ipython",
    "version": 3
   },
   "file_extension": ".py",
   "mimetype": "text/x-python",
   "name": "python",
   "nbconvert_exporter": "python",
   "pygments_lexer": "ipython3",
   "version": "3.13.2"
  }
 },
 "nbformat": 4,
 "nbformat_minor": 5
}
