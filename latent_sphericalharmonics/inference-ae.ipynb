{
 "cells": [
  {
   "cell_type": "code",
   "execution_count": 1,
   "id": "1fde082d",
   "metadata": {},
   "outputs": [
    {
     "name": "stderr",
     "output_type": "stream",
     "text": [
      "2025-06-02 13:06:36.716353: E external/local_xla/xla/stream_executor/cuda/cuda_fft.cc:467] Unable to register cuFFT factory: Attempting to register factory for plugin cuFFT when one has already been registered\n",
      "WARNING: All log messages before absl::InitializeLog() is called are written to STDERR\n",
      "E0000 00:00:1748862396.733310  421101 cuda_dnn.cc:8579] Unable to register cuDNN factory: Attempting to register factory for plugin cuDNN when one has already been registered\n",
      "E0000 00:00:1748862396.739080  421101 cuda_blas.cc:1407] Unable to register cuBLAS factory: Attempting to register factory for plugin cuBLAS when one has already been registered\n",
      "W0000 00:00:1748862396.754647  421101 computation_placer.cc:177] computation placer already registered. Please check linkage and avoid linking the same target more than once.\n",
      "W0000 00:00:1748862396.754667  421101 computation_placer.cc:177] computation placer already registered. Please check linkage and avoid linking the same target more than once.\n",
      "W0000 00:00:1748862396.754668  421101 computation_placer.cc:177] computation placer already registered. Please check linkage and avoid linking the same target more than once.\n",
      "W0000 00:00:1748862396.754670  421101 computation_placer.cc:177] computation placer already registered. Please check linkage and avoid linking the same target more than once.\n",
      "2025-06-02 13:06:36.759310: I tensorflow/core/platform/cpu_feature_guard.cc:210] This TensorFlow binary is optimized to use available CPU instructions in performance-critical operations.\n",
      "To enable the following instructions: AVX2 FMA, in other operations, rebuild TensorFlow with the appropriate compiler flags.\n"
     ]
    },
    {
     "name": "stdout",
     "output_type": "stream",
     "text": [
      "25-06-02 13:06:40  sbi_flows INF   WARNING: This network assumes that everything concerning healpy is in NEST ordering... \n",
      "25-06-02 13:06:40  sbi_flows INF   Detected a reduction factor of 1.0, the input with nside 16 will be transformed to 16 during a forward pass. Checking for consistency with indices... \n",
      "25-06-02 13:06:40  sbi_flows INF   indices seem consistent... \n",
      "25-06-02 13:06:41  sbi_flows INF   WARNING: This network assumes that everything concerning healpy is in NEST ordering... \n",
      "25-06-02 13:06:41  sbi_flows INF   Detected a reduction factor of 1.0, the input with nside 8 will be transformed to 8 during a forward pass. Checking for consistency with indices... \n",
      "25-06-02 13:06:41  sbi_flows INF   indices seem consistent... \n",
      "25-06-02 13:06:41  sbi_flows INF   WARNING: This network assumes that everything concerning healpy is in NEST ordering... \n",
      "25-06-02 13:06:41  sbi_flows INF   Detected a reduction factor of 1.0, the input with nside 4 will be transformed to 4 during a forward pass. Checking for consistency with indices... \n",
      "25-06-02 13:06:41  sbi_flows INF   indices seem consistent... \n",
      "25-06-02 13:06:41  sbi_flows INF   WARNING: This network assumes that everything concerning healpy is in NEST ordering... \n",
      "25-06-02 13:06:41  sbi_flows INF   Detected a reduction factor of 1.0, the input with nside 2 will be transformed to 2 during a forward pass. Checking for consistency with indices... \n",
      "25-06-02 13:06:41  sbi_flows INF   indices seem consistent... \n",
      "25-06-02 13:06:41  sbi_flows INF   WARNING: This network assumes that everything concerning healpy is in NEST ordering... \n",
      "25-06-02 13:06:41  sbi_flows INF   Detected a reduction factor of 1.0, the input with nside 2 will be transformed to 2 during a forward pass. Checking for consistency with indices... \n",
      "25-06-02 13:06:41  sbi_flows INF   indices seem consistent... \n",
      "25-06-02 13:06:41  sbi_flows INF   WARNING: This network assumes that everything concerning healpy is in NEST ordering... \n",
      "25-06-02 13:06:41  sbi_flows INF   Detected a reduction factor of 1.0, the input with nside 4 will be transformed to 4 during a forward pass. Checking for consistency with indices... \n",
      "25-06-02 13:06:41  sbi_flows INF   indices seem consistent... \n"
     ]
    },
    {
     "name": "stderr",
     "output_type": "stream",
     "text": [
      "2025-06-02 13:06:41.454894: E external/local_xla/xla/stream_executor/cuda/cuda_platform.cc:51] failed call to cuInit: INTERNAL: CUDA error: Failed call to cuInit: CUDA_ERROR_NO_DEVICE: no CUDA-capable device is detected\n"
     ]
    },
    {
     "name": "stdout",
     "output_type": "stream",
     "text": [
      "25-06-02 13:06:41  sbi_flows INF   WARNING: This network assumes that everything concerning healpy is in NEST ordering... \n",
      "25-06-02 13:06:41  sbi_flows INF   Detected a reduction factor of 1.0, the input with nside 8 will be transformed to 8 during a forward pass. Checking for consistency with indices... \n",
      "25-06-02 13:06:41  sbi_flows INF   indices seem consistent... \n",
      "25-06-02 13:06:41  sbi_flows INF   WARNING: This network assumes that everything concerning healpy is in NEST ordering... \n",
      "25-06-02 13:06:41  sbi_flows INF   Detected a reduction factor of 1.0, the input with nside 16 will be transformed to 16 during a forward pass. Checking for consistency with indices... \n",
      "25-06-02 13:06:41  sbi_flows INF   indices seem consistent... \n",
      "25-06-02 13:06:41  sbi_flows INF   WARNING: This network assumes that everything concerning healpy is in NEST ordering... \n",
      "25-06-02 13:06:41  sbi_flows INF   Detected a reduction factor of 1.0, the input with nside 16 will be transformed to 16 during a forward pass. Checking for consistency with indices... \n",
      "25-06-02 13:06:41  sbi_flows INF   indices seem consistent... \n",
      "25-06-02 13:06:42  sbi_flows INF   WARNING: This network assumes that everything concerning healpy is in NEST ordering... \n",
      "25-06-02 13:06:42  sbi_flows INF   Detected a reduction factor of 1.0, the input with nside 16 will be transformed to 16 during a forward pass. Checking for consistency with indices... \n",
      "25-06-02 13:06:42  sbi_flows INF   indices seem consistent... \n",
      "25-06-02 13:06:42  sbi_flows INF   WARNING: This network assumes that everything concerning healpy is in NEST ordering... \n",
      "25-06-02 13:06:42  sbi_flows INF   Detected a reduction factor of 1.0, the input with nside 16 will be transformed to 16 during a forward pass. Checking for consistency with indices... \n",
      "25-06-02 13:06:42  sbi_flows INF   indices seem consistent... \n",
      "25-06-02 13:06:42  sbi_flows INF   WARNING: This network assumes that everything concerning healpy is in NEST ordering... \n",
      "25-06-02 13:06:42  sbi_flows INF   Detected a reduction factor of 1.0, the input with nside 16 will be transformed to 16 during a forward pass. Checking for consistency with indices... \n",
      "25-06-02 13:06:42  sbi_flows INF   indices seem consistent... \n",
      "25-06-02 13:06:43  sbi_flows INF   inputs_shape=(1, 48, 32) \n",
      "25-06-02 13:06:43  sbi_flows INF   pos_emb_shape=(1, 48, 32) \n",
      "954\n",
      "['configf_1377', 'configf_1797', 'configf_1157', 'configf_790', 'configf_2396']\n"
     ]
    }
   ],
   "source": [
    "import os\n",
    "os.environ[\"CUDA_VISIBLE_DEVICES\"] = \"-1\"\n",
    "import healpy as hp, tensorflow as tf\n",
    "from quick_infer import load_dsphere, run_full, run_encoder, run_decoder\n",
    "import numpy as np\n",
    "\n",
    "from ae_training import load_data_from_folders\n",
    "\n",
    "model = load_dsphere(\"training_output/outer_final_evaluated_model.keras\",\n",
    "                     gpu=False)           # now loads without error\n",
    "\n",
    "\n",
    "leaflet_type = 'outer'\n",
    "params = np.load(\"training_output/outer_radial_normalization_params.npz\")\n",
    "radial_mean = params['mean']\n",
    "radial_std = params['std']\n",
    "folders = [\n",
    "    d for d in os.listdir(\".\")\n",
    "    if d.startswith(\"configf_\") and os.path.isdir(d)\n",
    "]\n",
    "print(len(folders))\n",
    "print(folders[0:5])\n"
   ]
  },
  {
   "cell_type": "code",
   "execution_count": null,
   "id": "79d64290",
   "metadata": {},
   "outputs": [
    {
     "name": "stdout",
     "output_type": "stream",
     "text": [
      "before r2n (101, 3072, 4)\n",
      "after r2n: (101, 3072, 4)\n",
      "before r2n (101, 3072, 4)\n",
      "after r2n: (101, 3072, 4)\n",
      "before r2n (101, 3072, 4)\n",
      "after r2n: (101, 3072, 4)\n",
      "before r2n (101, 3072, 4)\n",
      "after r2n: (101, 3072, 4)\n",
      "before r2n (101, 3072, 4)\n",
      "after r2n: (101, 3072, 4)\n",
      "before r2n (101, 3072, 4)\n",
      "after r2n: (101, 3072, 4)\n",
      "before r2n (101, 3072, 4)\n",
      "after r2n: (101, 3072, 4)\n",
      "before r2n (101, 3072, 4)\n",
      "after r2n: (101, 3072, 4)\n",
      "before r2n (101, 3072, 4)\n",
      "after r2n: (101, 3072, 4)\n",
      "before r2n (101, 3072, 4)\n",
      "after r2n: (101, 3072, 4)\n",
      "before r2n (101, 3072, 4)\n",
      "after r2n: (101, 3072, 4)\n"
     ]
    }
   ],
   "source": [
    "for idx, folder in enumerate(folders, start=1):\n",
    "    if idx % 50 == 0:\n",
    "        print(f\"Processing folder #{idx}: {folder}\")\n",
    "    ready = load_data_from_folders([folder], leaflet_type=leaflet_type, initial_nside=16)\n",
    "    ready[..., 0] = (ready[..., 0] - radial_mean) / radial_std\n",
    "    n_frames = ready.shape[0]              # e.g. 90, 101, 120, etc.\n",
    "    # 3) allocate latent with the correct first dimension\n",
    "    latent = np.zeros((n_frames, 48, 32), dtype=float)\n",
    "    #print(latent.shape)   # → (101, 32, 48)\n",
    "    for i in range(n_frames):\n",
    "        frame = ready[i:i+1] \n",
    "        frame_enc = model.encode(frame)\n",
    "        #print('encoded shape', frame_enc.shape, 'original shape', frame.shape, 'latent shape', latent[i:i+1].shape)\n",
    "        latent[i:i+1] = frame_enc\n",
    "        #frame_dec = model.decode(frame_enc)\n",
    "        #for element in frame_dec:\n",
    "        #    print(frame_dec[element].shape)\n",
    "    np.save(f\"{folder}/{leaflet_type}_ae_latent\", latent)\n",
    "    \n"
   ]
  },
  {
   "cell_type": "code",
   "execution_count": 3,
   "id": "d2630f2c",
   "metadata": {},
   "outputs": [
    {
     "name": "stdout",
     "output_type": "stream",
     "text": [
      "Number of folders without exactly 101 frames: 43\n",
      "  configf_1400 has 90 frames\n",
      "  configf_10 has 68 frames\n",
      "  configf_3370 has 89 frames\n",
      "  configf_2500 has 59 frames\n",
      "  configf_3214 has 55 frames\n",
      "  configf_568 has 91 frames\n",
      "  configf_3649 has 30 frames\n",
      "  configf_126 has 83 frames\n",
      "  configf_3269 has 80 frames\n",
      "  configf_2112 has 95 frames\n",
      "  configf_424 has 95 frames\n",
      "  configf_767 has 77 frames\n",
      "  configf_3199 has 86 frames\n",
      "  configf_1735 has 95 frames\n",
      "  configf_2332 has 83 frames\n",
      "  configf_3364 has 95 frames\n",
      "  configf_3850 has 77 frames\n",
      "  configf_654 has 100 frames\n",
      "  configf_263 has 80 frames\n",
      "  configf_3619 has 96 frames\n",
      "  configf_1836 has 86 frames\n",
      "  configf_3256 has 79 frames\n",
      "  configf_1051 has 85 frames\n",
      "  configf_2894 has 79 frames\n",
      "  configf_30 has 100 frames\n",
      "  configf_430 has 70 frames\n",
      "  configf_1252 has 86 frames\n",
      "  configf_3580 has 83 frames\n",
      "  configf_3070 has 98 frames\n",
      "  configf_2230 has 84 frames\n",
      "  configf_2322 has 86 frames\n",
      "  configf_4086 has 94 frames\n",
      "  configf_2966 has 75 frames\n",
      "  configf_2610 has 24 frames\n",
      "  configf_198 has 83 frames\n",
      "  configf_1343 has 99 frames\n",
      "  configf_2247 has 75 frames\n",
      "  configf_3622 has 94 frames\n",
      "  configf_2748 has 91 frames\n",
      "  configf_3975 has 51 frames\n",
      "  configf_3804 has 94 frames\n",
      "  configf_2210 has 88 frames\n",
      "  configf_1625 has 94 frames\n"
     ]
    }
   ],
   "source": [
    "import os\n",
    "import numpy as np\n",
    "\n",
    "leaflet_type = 'outer'\n",
    "radial_filename = \"area_outer_radial_dist.npy\"\n",
    "\n",
    "# Step 2: Check each folder's radial array shape\n",
    "bad_folders = []\n",
    "\n",
    "for folder in folders:\n",
    "    radial_path = os.path.join(folder, \"analysis_output\", radial_filename)\n",
    "    if not os.path.isfile(radial_path):\n",
    "        # If the file doesn't exist, count as bad with 0 frames\n",
    "        bad_folders.append((folder, 0))\n",
    "    else:\n",
    "        arr = np.load(radial_path)\n",
    "        n_frames = arr.shape[0]\n",
    "        if n_frames != 101:\n",
    "            bad_folders.append((folder, n_frames))\n",
    "\n",
    "# Step 3: Report\n",
    "num_bad = len(bad_folders)\n",
    "print(f\"Number of folders without exactly 101 frames: {num_bad}\")\n",
    "for folder, n in bad_folders:\n",
    "    print(f\"  {folder} has {n} frames\")\n"
   ]
  },
  {
   "cell_type": "code",
   "execution_count": null,
   "id": "59eba29b",
   "metadata": {},
   "outputs": [],
   "source": []
  }
 ],
 "metadata": {
  "kernelspec": {
   "display_name": "deepsphere_env",
   "language": "python",
   "name": "python3"
  },
  "language_info": {
   "codemirror_mode": {
    "name": "ipython",
    "version": 3
   },
   "file_extension": ".py",
   "mimetype": "text/x-python",
   "name": "python",
   "nbconvert_exporter": "python",
   "pygments_lexer": "ipython3",
   "version": "3.10.17"
  }
 },
 "nbformat": 4,
 "nbformat_minor": 5
}
